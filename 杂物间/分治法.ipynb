{
 "cells": [
  {
   "cell_type": "code",
   "execution_count": 2,
   "metadata": {},
   "outputs": [],
   "source": [
    "### 导入所需库\n",
    "import numpy as np\n",
    "import pandas as pd"
   ]
  },
  {
   "cell_type": "markdown",
   "metadata": {},
   "source": [
    "#### 最接近点对问题的子问题的分治法解决思路\n",
    "##### 问题本质\n",
    "+ 找到所有点中欧式距离最小的点\n",
    "##### 子问题\n",
    "- *分割*：把一个点集划分为左右点集\n",
    "- *递归求解*：穷举找到规定的最小点集的最接近点\n",
    "- *合并*：两个有同一父点集的子点集之间的最接近点\n",
    "##### 参数\n",
    "- 分割依据？\n",
    "- 最小点集规定为多少？\n",
    "- 两点集中哪些点需要单独计算距离？"
   ]
  },
  {
   "cell_type": "markdown",
   "metadata": {},
   "source": [
    "------\n",
    "一维问题\n",
    "\n",
    "参数\n",
    "+ 平均值\n",
    "+ 最小点集最初设置为5，有需要可以再调\n",
    "+ 两个子点集中中位数最接近的点1"
   ]
  },
  {
   "cell_type": "code",
   "execution_count": 20,
   "metadata": {},
   "outputs": [],
   "source": [
    "### 注：点对由0开始计数\n",
    "class fz_1():\n",
    "    import numpy as np\n",
    "    def __init__(self,min_size=5):\n",
    "        self.m_size = min_size\n",
    "        \n",
    "    ### 计算分割点,返回左右点集和左右点集中距离平均点最近的两个点\n",
    "    def d_point(self,df):\n",
    "        mid = df.mean()\n",
    "        df_left = df[df>=mid]\n",
    "        df_right = df[df<mid]\n",
    "        point_l = df_left[np.argmin(np.abs(df_left-mid))]\n",
    "        point_r = df_right[np.argmin(np.abs(df_right-mid))]\n",
    "        return (df_left,df_right,point_l,point_r)\n",
    "    \n",
    "    ### 计算最小点集中最接近点对\n",
    "    def min_diandui(self,df):\n",
    "        new_df = np.sort(df)\n",
    "        pos = np.argmin(new_df[1:] - new_df[:-1])\n",
    "        pt1 = new_df[pos]\n",
    "        pt2 = new_df[pos+1]\n",
    "        return pt1,pt2\n",
    "    \n",
    "    ### 子问题划分并求解\n",
    "    def divide(self,df):\n",
    "        ### 将数据集分为两个子集，并给出两个子集间相距最近的两个点\n",
    "        df_left,df_right,point_l,point_r = self.d_point(df)\n",
    "        ###迭代至左点集的大小小于已设置的参数，用穷举法求解最小点集对\n",
    "        if len(df_left) <= self.m_size:\n",
    "           point_l1,point_l2 = self.min_diandui(df_left)\n",
    "        else:\n",
    "           point_l1,point_l2 = self.divide(df_left)\n",
    "        ###迭代至右点集的大小小于已设置的参数，用穷举法求解最小点集对\n",
    "        if len(df_right) <= self.m_size:\n",
    "           point_r1,point_r2 = self.min_diandui(df_right)\n",
    "        else:\n",
    "           point_r1,point_r2 = self.divide(df_right)\n",
    "        \n",
    "        l_list = [abs(point_l-point_r),abs(point_r1-point_r2),abs(point_l1-point_l2)]\n",
    "        if np.argmin(l_list) == 0:\n",
    "            return point_l,point_r\n",
    "        elif np.argmin(l_list) == 1:\n",
    "            return point_r1,point_r2\n",
    "        elif np.argmin(l_list) == 2:\n",
    "            return point_l1,point_l2\n",
    "        else:\n",
    "            print(\"check a check\")"
   ]
  },
  {
   "cell_type": "code",
   "execution_count": 23,
   "metadata": {},
   "outputs": [
    {
     "name": "stdout",
     "output_type": "stream",
     "text": [
      "分治法结果(0.7852245659372546, 0.7853719139553903)\n",
      "分治法时间0.00861215591430664\n",
      "穷举法结果:(0.7852245659372546, 0.7853719139553903)\n",
      "穷举法时间:0.014716625213623047\n"
     ]
    }
   ],
   "source": [
    "import time\n",
    "#随机生成一些数据\n",
    "data = np.random.rand(100)\n",
    "#实例化模型\n",
    "fz = fz_1()\n",
    "#调用分治法求解\n",
    "fz_start = time.time()\n",
    "fz_df = fz.divide(data)\n",
    "time.sleep(1)\n",
    "fz_end = time.time()\n",
    "qj_start = time.time()\n",
    "time.sleep(1)\n",
    "qj_df = fz.min_diandui(data)\n",
    "qj_df = fz.min_diandui(data)\n",
    "qj_end = time.time()\n",
    "print(\"分治法结果\"+str(fz_df))\n",
    "print(\"分治法时间\"+str(fz_end-fz_start-1))\n",
    "print(\"穷举法结果:\"+str(qj_df))\n",
    "print(\"穷举法时间:\"+str(qj_end-qj_start-1))"
   ]
  },
  {
   "cell_type": "code",
   "execution_count": null,
   "metadata": {},
   "outputs": [],
   "source": [
    "import time\n",
    "\n",
    "# 记录程序开始时间\n",
    "start_time = time.time()\n",
    "\n",
    "# 在这里运行你的程序\n",
    "# ...\n",
    "\n",
    "# 记录程序结束时间\n",
    "end_time = time.time()\n",
    "\n",
    "# 计算程序的运行时间\n",
    "run_time = end_time - start_time\n",
    "print(\"程序运行时间为：\", run_time, \"秒\")\n"
   ]
  },
  {
   "cell_type": "code",
   "execution_count": null,
   "metadata": {},
   "outputs": [],
   "source": []
  }
 ],
 "metadata": {
  "kernelspec": {
   "display_name": "skl",
   "language": "python",
   "name": "python3"
  },
  "language_info": {
   "codemirror_mode": {
    "name": "ipython",
    "version": 3
   },
   "file_extension": ".py",
   "mimetype": "text/x-python",
   "name": "python",
   "nbconvert_exporter": "python",
   "pygments_lexer": "ipython3",
   "version": "3.8.0"
  }
 },
 "nbformat": 4,
 "nbformat_minor": 2
}
