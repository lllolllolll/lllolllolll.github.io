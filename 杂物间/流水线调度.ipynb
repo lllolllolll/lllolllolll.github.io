{
 "cells": [
  {
   "cell_type": "code",
   "execution_count": 4,
   "metadata": {},
   "outputs": [],
   "source": [
    "import numpy as np\n",
    "import pandas as pd\n",
    "import matplotlib.pyplot as plt"
   ]
  },
  {
   "cell_type": "markdown",
   "metadata": {},
   "source": [
    "### 流水线调度问题\n",
    "+ 在n个任务需要在m台机器中调度。\n",
    "+ 约束：每台机器的处理时间\n",
    "+ 目标：最小化完成所有任务的时间\n",
    "#### 动态规划\n",
    "+ 定义子问题\n",
    "+ 确定状态和状态转移方程\n",
    "+ 初始条件和约束条件\n",
    "+ 计算并保留子问题解\n",
    "+ 构建原问题的解"
   ]
  },
  {
   "cell_type": "markdown",
   "metadata": {},
   "source": [
    " 有三个任务\\(  1, 2 , 3 \\) 需要在两台机器 \\( 1, 2 \\) 上进行调度。每个任务在两台机器上的处理时间如下表所示：\n",
    "\n",
    "| 任务 | t1 | t2 |\n",
    "|---|---|---|\n",
    "| 1 | 5 | 6 |\n",
    "| 2 | 12 | 2 |\n",
    "| 3 | 4 | 14 |\n",
    "| 4 | 8 | 7 | "
   ]
  },
  {
   "cell_type": "markdown",
   "metadata": {},
   "source": [
    "##### 给定顺序矩阵和时间矩阵\n",
    "##### 选择t2>t1的值\n",
    "##### 选择选t1的值最小的一个"
   ]
  },
  {
   "cell_type": "markdown",
   "metadata": {},
   "source": [
    "任务为2时"
   ]
  },
  {
   "cell_type": "code",
   "execution_count": 51,
   "metadata": {},
   "outputs": [],
   "source": [
    "class lsx():\n",
    "    def __init__(self,t):\n",
    "        import numpy as np\n",
    "        ### 顺序矩阵\n",
    "        self.pos = []\n",
    "        ### 时间矩阵                              \n",
    "        self.m_t = np.zeros(len(t))\n",
    "        self.mmm = np.sum(t[0]) * 2\n",
    "    def solve(self,t):\n",
    "        dd = self.choose(t)\n",
    "        self.pos.append(dd)\n",
    "        self.m_t[0] += t[0,dd]\n",
    "        if self.m_t[1]<self.m_t[0]:\n",
    "           self.m_t[1] += self.m_t[0]+t[1,dd]\n",
    "        else:\n",
    "           self.m_t[1] += t[1,dd]\n",
    "        t[0,dd] = self.mmm\n",
    "        if np.sum((t[0] !=self.mmm)) == 0:\n",
    "            return  self.pos,self.m_t[1]\n",
    "        else:\n",
    "           return self.solve(t)\n",
    "\n",
    "    def choose(self,t):\n",
    "        if np.sum(t[0]<t[1])!=0:\n",
    "           m1 = np.argmin([t[0]-t[1]])\n",
    "           return m1\n",
    "        else:\n",
    "            return np.argmin(t[0])"
   ]
  },
  {
   "cell_type": "code",
   "execution_count": 55,
   "metadata": {},
   "outputs": [
    {
     "name": "stdout",
     "output_type": "stream",
     "text": [
      "第一条流水线任务顺序[2, 0, 3, 1]\n",
      "总时长33.0\n"
     ]
    }
   ],
   "source": [
    "data = np.array([[5,12,4,8],[6,2,14,7]])\n",
    "exam = lsx(data)\n",
    "### 输入\n",
    "end = exam.solve(data)\n",
    "print(\"第一条流水线任务顺序\"+str(end[0]))\n",
    "print(\"总时长\"+str(end[1]))"
   ]
  },
  {
   "cell_type": "code",
   "execution_count": null,
   "metadata": {},
   "outputs": [],
   "source": []
  }
 ],
 "metadata": {
  "kernelspec": {
   "display_name": "skl",
   "language": "python",
   "name": "python3"
  },
  "language_info": {
   "codemirror_mode": {
    "name": "ipython",
    "version": 3
   },
   "file_extension": ".py",
   "mimetype": "text/x-python",
   "name": "python",
   "nbconvert_exporter": "python",
   "pygments_lexer": "ipython3",
   "version": "3.8.0"
  }
 },
 "nbformat": 4,
 "nbformat_minor": 2
}
