{
 "cells": [
  {
   "cell_type": "code",
   "execution_count": 1,
   "metadata": {},
   "outputs": [],
   "source": [
    "import matplotlib.pyplot as plt\n",
    "import pandas as pd\n",
    "import numpy as np"
   ]
  },
  {
   "cell_type": "markdown",
   "metadata": {},
   "source": [
    "20元"
   ]
  },
  {
   "cell_type": "code",
   "execution_count": 82,
   "metadata": {},
   "outputs": [],
   "source": [
    "date = pd.read_excel(r\"C:\\Users\\lll23\\Documents\\WXWork\\1688857525503677\\Cache\\File\\2024-03\\满意度指标.xlsx\")\n",
    "### 对比强度，指标变异性\n",
    "def duibi(c):\n",
    "    m = c.mean()\n",
    "    n = len(c)-1\n",
    "    return (sum((c-m)**2)/n)**0.5\n",
    "db = date.apply(duibi,axis=0)\n",
    "db\n",
    "\n",
    "###指标冲突性\n",
    "ctx = 7-(date.corr().sum()-1)\n",
    "ctx\n",
    "###权重\n",
    "# CRITIC权重计算  \n",
    "critic_weights = ctx*db \n",
    "  \n",
    "# 归一化权重  \n",
    "total_critic_score = np.sum(critic_weights)  \n",
    "critic_weights_normalized = critic_weights / total_critic_score   \n",
    "# 输出权重  \n",
    "print(\"CRITIC方法计算的权重:\")  \n",
    "print(critic_weights_normalized*100)"
   ]
  },
  {
   "cell_type": "code",
   "execution_count": null,
   "metadata": {},
   "outputs": [],
   "source": [
    "###13年\n",
    "\n",
    "###15年 17 19"
   ]
  },
  {
   "cell_type": "code",
   "execution_count": 2,
   "metadata": {},
   "outputs": [],
   "source": [
    "import pandas as pd\n",
    "\n",
    "\n",
    "# # 读取txt文件为DataFrame\n",
    "# date_dz = r'C:\\Users\\lll23\\Desktop\\应用\\数据分析\\实战\\plt_date\\CHFS2017-txt\\chfs2017_ind_202206.txt'\n",
    "# df = pd.read_csv(date_dz, sep=',', header=0)"
   ]
  },
  {
   "cell_type": "code",
   "execution_count": 3,
   "metadata": {},
   "outputs": [],
   "source": [
    "df = pd.read_stata(r\"C:\\Users\\lll23\\Desktop\\应用\\数据分析\\实战\\plt_date\\CHFS2017-stata14\\chfs2017_ind_202206.dta\")"
   ]
  },
  {
   "cell_type": "code",
   "execution_count": 4,
   "metadata": {},
   "outputs": [],
   "source": [
    "k = []\n",
    "for i in df.columns:\n",
    "    k.append(i[-3:])"
   ]
  },
  {
   "cell_type": "code",
   "execution_count": 6,
   "metadata": {},
   "outputs": [
    {
     "name": "stdout",
     "output_type": "stream",
     "text": [
      "5026\n",
      "61\n",
      "5089\n",
      "40\n",
      "5090\n",
      "40\n",
      "5091\n",
      "40\n",
      "5092\n",
      "40\n",
      "5184\n",
      "40\n",
      "5185\n",
      "40\n",
      "5186\n",
      "40\n",
      "5186\n",
      "534\n",
      "5201\n",
      "40\n",
      "5202\n",
      "35\n",
      "5202\n",
      "40\n",
      "5203\n",
      "40\n",
      "5203\n",
      "61\n",
      "5243\n",
      "40\n",
      "5244\n",
      "35\n",
      "5244\n",
      "40\n",
      "5244\n",
      "61\n",
      "5245\n",
      "40\n",
      "5252\n",
      "40\n",
      "5253\n",
      "40\n",
      "5256\n",
      "40\n",
      "5257\n",
      "40\n",
      "5258\n",
      "40\n",
      "5259\n",
      "40\n",
      "5260\n",
      "40\n",
      "5261\n",
      "35\n",
      "5261\n",
      "40\n",
      "5262\n",
      "40\n",
      "5320\n",
      "40\n",
      "5321\n",
      "40\n",
      "5355\n",
      "56\n",
      "5356\n",
      "35\n",
      "5356\n",
      "40\n",
      "5357\n",
      "40\n",
      "5358\n",
      "40\n",
      "5364\n",
      "40\n",
      "5365\n",
      "40\n",
      "5389\n",
      "40\n",
      "5390\n",
      "40\n",
      "5414\n",
      "56\n",
      "5415\n",
      "61\n",
      "5460\n",
      "61\n",
      "5543\n",
      "40\n",
      "5544\n",
      "40\n",
      "5544\n",
      "56\n",
      "5544\n",
      "61\n",
      "5564\n",
      "40\n",
      "5599\n",
      "40\n",
      "5599\n",
      "534\n",
      "5600\n",
      "40\n",
      "5601\n",
      "40\n",
      "5602\n",
      "40\n",
      "5603\n",
      "40\n",
      "5647\n",
      "40\n",
      "5648\n",
      "35\n",
      "5648\n",
      "40\n",
      "5649\n",
      "40\n",
      "5655\n",
      "40\n",
      "5656\n",
      "40\n",
      "5658\n",
      "40\n",
      "5691\n",
      "61\n",
      "5750\n",
      "40\n",
      "5750\n",
      "534\n",
      "5750\n",
      "539\n",
      "5751\n",
      "40\n",
      "5783\n",
      "40\n",
      "5783\n",
      "56\n",
      "5784\n",
      "40\n",
      "5785\n",
      "40\n",
      "5786\n",
      "40\n",
      "5787\n",
      "40\n",
      "5788\n",
      "40\n",
      "5789\n",
      "40\n",
      "5791\n",
      "56\n",
      "5791\n",
      "61\n",
      "5980\n",
      "40\n",
      "5981\n",
      "40\n"
     ]
    }
   ],
   "source": [
    "import re\n",
    "def is_decimal(num_str):\n",
    "    pattern = r'^[-+]?[0-9].?\\d*'\n",
    "    return re.match(pattern, num_str) is not None\n",
    "for j in range(5000,6000):   \n",
    "    for i in range(len(df.columns)):\n",
    "        if pd.isnull(df.iloc[j,i]):\n",
    "            continue\n",
    "        elif df.iloc[j,i] == \".\":\n",
    "            continue\n",
    "        elif  df.iloc[j,i] == \"山东\" or df.iloc[j,i] == \"山东省\":\n",
    "                print(j)\n",
    "                print(i)"
   ]
  },
  {
   "cell_type": "code",
   "execution_count": 8,
   "metadata": {},
   "outputs": [],
   "source": [
    "def is_string(value):\n",
    "    return type(value) == str\n",
    "\n",
    "# 使用 apply 方法应用上面定义的函数\n",
    "sd = df[df[df.columns[40]] == \"山东省\"]"
   ]
  },
  {
   "cell_type": "code",
   "execution_count": 7,
   "metadata": {},
   "outputs": [
    {
     "data": {
      "text/plain": [
       "'山东省'"
      ]
     },
     "execution_count": 7,
     "metadata": {},
     "output_type": "execute_result"
    }
   ],
   "source": [
    "df.iloc[5981,40]"
   ]
  },
  {
   "cell_type": "code",
   "execution_count": 132,
   "metadata": {},
   "outputs": [
    {
     "name": "stderr",
     "output_type": "stream",
     "text": [
      "C:\\Users\\lll23\\AppData\\Local\\Temp\\ipykernel_25144\\3966098898.py:2: DtypeWarning: Columns (1,2,3,6,7,8,10,11,12,13,14,15,17,18,19,20,21,22,23,24,25,26,27,39,40,41,42,43,44,45,47,48,53,54,59,60,65,66,69,70,71,72,73,74,75,76,78,79,81,84,85,86,88,91,92,93,95,98,99,100,105,106,107,108,109,110,111,112,113,114,115,116,121,122,123,124,125,126,127,128,129,130,131,132,133,134,135,136,147,148,149,150,151,152,154,155,156,157,158,191,192,193,194,195,205,206,207,210,211,212,219,220,224,225,227,228,229,230,231,233,234,235,245,246,247,249,250,251,253,255,258,259,261,266,267,268,270,271,272,274,275,279,280,282,283,287,289,290,291,292,293,295,296,297,299,302,303,304,305,306,307,308,309,310,311,312,319,320,331,332,333,334,335,337,338,339,341,342,343,345,346,347,349,350,351,353,354,355,356,357,358,359,360,361,362,363,364,376,377,378,383,384,385,387,388,395,396,407,408,409,410,411,412,418,419,420,422,423,424,425,426,427,428,429,430,431,432,433,434,435,436,437,444,450,451,452,454,455,456,458,459,460,461,462,463,464,465,466,467,468,469,470,471,472,473,474,476,478,479,480,481,482,483,494,495,496,498,499,500,501,502,503,504,505,506,507,508,509,510,511,512,513,514,515,516,517,518,519,520,523,533,534,535,542,543,544,545,548,549,551,552,554,555,561,562,563,569,570,571,572,573,574,581,582,587,588,589,590,592,599,600,601,602,611,612,617,618,619,620,621,622,625,626,632,633,634,638,639,640,657,661,665,666,667,668,669,670,671,672,673,674,675,676,677,678,679,680,682,683,684,685,686,687,688,689,691,692,693,694,695,696,697,698,699,700,701,702,703,704,705,706,708,709,710,711,723,727,735,736,738,739,740,742,745,748,751,754,757,759,760,762,763,764,765,766,768,769,770,771,772,774,775,776,777,780,783,786,787,789,790,792,795,803,807,808,809,810,811,812,813,814,815,822,823,825,826,827,829,830,833,837,838,839,840,845,846,851,852,857,860,863,864,866,869,870,875,876,879,880,883,888,889,891,892,893,895,896,897,899,900,901,903,904,905,906,909,910,912,913,914,916,917,920,921,922,929,932,933,934,936,937,938,940,944,945,946,953,956,957,960,961,962,964,989,996,997,1004,1005,1012,1019,1020,1021,1022,1023,1024,1031,1032,1033,1034,1037,1038,1039,1040,1041,1042,1043,1049,1050,1057,1064,1070,1071,1077,1078,1084,1085,1086,1091,1092,1093,1094,1101,1102,1104,1109,1110,1112,1113,1114,1116,1121,1124,1125,1133,1145,1150,1151,1200,1201,1202,1203,1206,1207,1210,1215,1218,1219,1222,1223,1224,1226,1227,1228,1229,1233,1234,1235,1236,1237,1238,1239,1240,1241,1242,1245,1246,1247,1248,1249,1250,1251,1254,1255,1258,1259,1263,1266,1267,1268,1270,1271,1272,1274,1275,1276,1277,1279,1280,1281,1282,1283,1284,1285,1292,1293,1295,1296,1297,1299,1310,1311,1313,1314,1315,1317,1318,1322,1325,1326,1329,1340,1341,1342,1344,1369,1376,1377,1384,1385,1396,1397,1402,1403,1405,1406,1407,1408,1409,1411,1412,1414,1417,1418,1419,1420,1422,1426,1427,1432,1433,1435,1436,1437,1438,1444,1445,1446,1447,1448,1451,1452,1453,1454,1455,1457,1460,1461,1462,1463,1465,1466,1469,1470,1471,1473,1474,1475,1476,1477,1478,1485,1486,1489,1490,1491,1492,1494,1495,1496,1497,1498,1499,1500,1501,1502,1505,1506,1507,1508,1509,1510,1511,1512,1513,1516,1518,1520,1521,1523,1526,1527,1528,1530,1531,1532,1534,1535,1536,1538,1543,1547,1548,1550,1551,1552,1554,1555,1563,1564,1569,1570,1571,1573,1576,1577,1578,1580,1582,1612,1630,1633,1634,1635,1638,1639,1640,1647,1648,1649,1654,1655,1656,1657,1659,1660,1661,1662,1663,1664,1669,1670,1671,1672,1673,1674,1676,1677,1680,1683,1684,1685,1686,1688,1689,1690,1692,1693,1694,1695,1696,1697,1698,1707,1708,1711,1712,1713,1715,1716,1719,1720,1723,1724,1725,1727,1728,1732,1733,1735,1736,1737,1739,1740,1741,1742,1745,1746,1747,1749,1750,1751,1755,1757,1770,1777,1779,1781,1782,1783,1785,1787,1789,1790,1801,1802,1808,1809,1815,1819,1821,1824,1825,1828,1829,1836,1837,1838,1840,1845,1846,1847,1848,1850,1851,1852,1853,1855,1856,1857,1859,1860,1861,1866,1867,1873,1874,1875,1876,1877,1879,1880,1881,1883,1887,1889,1890,1891,1892,1893,1900,1901,1902,1903,1909,1910,1915,1918,1919,1924,1925,1928,1929,1932,1933,1934,1936,1937,1941,1945,1948,1949,1959,1960,1961,1962,1963,1965,1966,1967,1969,1970,1971,1974,1975,1976,1981,1982,1985,1986,1989,1990,1991,1993,1994,2002,2005,2006,2007,2016,2017,2018,2019,2020,2021,2022,2023,2024,2025,2026,2027,2028,2029,2030,2031,2032,2033,2035,2036,2043,2044,2051,2052,2059,2060,2067,2068,2075,2076,2083,2084,2091,2092,2099,2100,2101,2102,2111,2112,2120,2122,2124,2131,2132,2133,2138,2139,2142,2143,2146,2151,2152,2154,2159,2162,2163,2164,2165,2166,2167,2168,2169,2170,2172,2173,2176,2179,2181,2182,2184,2185,2187,2188,2190,2193,2194,2196,2197,2199,2201,2202,2204,2205,2207,2208,2210,2211,2214,2216,2217,2219,2220,2222,2223,2225,2226,2228,2229,2231,2232,2234,2235,2237,2238,2240,2256,2268,2276,2277,2278,2290,2291,2293,2296,2297,2307,2308,2309,2310,2311,2312,2313,2314,2328,2329,2330,2332,2333,2334,2336,2337,2339,2342,2343,2345,2348,2351,2352,2355,2369,2370,2371,2372,2373,2375,2376,2378,2381,2382,2384,2385,2388,2400,2401,2412,2420,2421,2424,2427,2430,2433,2436,2439,2442,2445,2446,2448,2451,2452,2454,2457,2458,2460,2463,2473,2474,2475,2477,2478,2480,2481,2484,2488,2491,2492,2496,2499,2500,2501,2503,2505,2508,2509,2510,2511,2512,2513,2514,2515,2516,2517,2518,2519,2527,2539,2540,2541,2551,2552,2553,2554,2555,2556,2557,2558,2559,2560,2561,2562,2563,2564,2586,2587,2592,2593,2594,2595,2596,2597,2598,2619,2621,2624,2625,2626,2627,2628,2629,2634,2635,2636,2637,2638,2639,2640,2641,2642,2645,2646,2649) have mixed types. Specify dtype option on import or set low_memory=False.\n",
      "  df_2 = pd.read_csv(date_2, sep=',', header=0)\n"
     ]
    }
   ],
   "source": [
    "date_2 = r\"C:\\Users\\lll23\\Desktop\\应用\\数据分析\\实战\\plt_date\\CHFS2019年调查数据-txt版本\\chfs2019_hh_202112.txt\"\n",
    "df_2 = pd.read_csv(date_2, sep=',', header=0)"
   ]
  },
  {
   "cell_type": "code",
   "execution_count": 133,
   "metadata": {},
   "outputs": [
    {
     "name": "stderr",
     "output_type": "stream",
     "text": [
      "C:\\Users\\lll23\\AppData\\Local\\Temp\\ipykernel_25144\\986160785.py:2: DtypeWarning: Columns (26) have mixed types. Specify dtype option on import or set low_memory=False.\n",
      "  df_3 = pd.read_csv(date_3, sep=',', header=0)\n"
     ]
    }
   ],
   "source": [
    "date_3 = r\"C:\\Users\\lll23\\Desktop\\应用\\数据分析\\实战\\plt_date\\CHFS2019年调查数据-txt版本\\chfs2019_master_202112.txt\"\n",
    "df_3 = pd.read_csv(date_3, sep=',', header=0)"
   ]
  },
  {
   "cell_type": "code",
   "execution_count": 134,
   "metadata": {},
   "outputs": [
    {
     "data": {
      "text/plain": [
       "Index([], dtype='object')"
      ]
     },
     "execution_count": 134,
     "metadata": {},
     "output_type": "execute_result"
    }
   ],
   "source": [
    "df_3.columns[df_3.columns == r\".*stock.*\"]"
   ]
  },
  {
   "cell_type": "code",
   "execution_count": 135,
   "metadata": {},
   "outputs": [
    {
     "data": {
      "text/html": [
       "<div>\n",
       "<style scoped>\n",
       "    .dataframe tbody tr th:only-of-type {\n",
       "        vertical-align: middle;\n",
       "    }\n",
       "\n",
       "    .dataframe tbody tr th {\n",
       "        vertical-align: top;\n",
       "    }\n",
       "\n",
       "    .dataframe thead th {\n",
       "        text-align: right;\n",
       "    }\n",
       "</style>\n",
       "<table border=\"1\" class=\"dataframe\">\n",
       "  <thead>\n",
       "    <tr style=\"text-align: right;\">\n",
       "      <th></th>\n",
       "      <th>hhid</th>\n",
       "      <th>pline</th>\n",
       "      <th>hhcid</th>\n",
       "      <th>track</th>\n",
       "      <th>rural</th>\n",
       "      <th>pa28</th>\n",
       "      <th>pab</th>\n",
       "      <th>pabcd</th>\n",
       "      <th>weight_hh</th>\n",
       "      <th>weight_ind</th>\n",
       "      <th>...</th>\n",
       "      <th>agri_debt</th>\n",
       "      <th>busi_debt</th>\n",
       "      <th>house_debt</th>\n",
       "      <th>comprop_debt</th>\n",
       "      <th>vehicle_debt</th>\n",
       "      <th>othnf_debt</th>\n",
       "      <th>educ_debt</th>\n",
       "      <th>credit_debt</th>\n",
       "      <th>medical_debt</th>\n",
       "      <th>other_debt</th>\n",
       "    </tr>\n",
       "  </thead>\n",
       "  <tbody>\n",
       "    <tr>\n",
       "      <th>0</th>\n",
       "      <td>2019000001</td>\n",
       "      <td>1</td>\n",
       "      <td>hhcid20170423</td>\n",
       "      <td>0</td>\n",
       "      <td>0</td>\n",
       "      <td>NaN</td>\n",
       "      <td>NaN</td>\n",
       "      <td>NaN</td>\n",
       "      <td>800.74805</td>\n",
       "      <td>616.55975</td>\n",
       "      <td>...</td>\n",
       "      <td>NaN</td>\n",
       "      <td>NaN</td>\n",
       "      <td>NaN</td>\n",
       "      <td>NaN</td>\n",
       "      <td>NaN</td>\n",
       "      <td>NaN</td>\n",
       "      <td>NaN</td>\n",
       "      <td>NaN</td>\n",
       "      <td>NaN</td>\n",
       "      <td>NaN</td>\n",
       "    </tr>\n",
       "    <tr>\n",
       "      <th>1</th>\n",
       "      <td>2019000002</td>\n",
       "      <td>4</td>\n",
       "      <td>hhcid20170423</td>\n",
       "      <td>0</td>\n",
       "      <td>0</td>\n",
       "      <td>NaN</td>\n",
       "      <td>A</td>\n",
       "      <td>NaN</td>\n",
       "      <td>800.74805</td>\n",
       "      <td>1556.92380</td>\n",
       "      <td>...</td>\n",
       "      <td>0.0</td>\n",
       "      <td>NaN</td>\n",
       "      <td>NaN</td>\n",
       "      <td>NaN</td>\n",
       "      <td>NaN</td>\n",
       "      <td>NaN</td>\n",
       "      <td>NaN</td>\n",
       "      <td>NaN</td>\n",
       "      <td>NaN</td>\n",
       "      <td>50000.0</td>\n",
       "    </tr>\n",
       "    <tr>\n",
       "      <th>2</th>\n",
       "      <td>2019000002</td>\n",
       "      <td>3</td>\n",
       "      <td>hhcid20170423</td>\n",
       "      <td>0</td>\n",
       "      <td>0</td>\n",
       "      <td>NaN</td>\n",
       "      <td>A</td>\n",
       "      <td>NaN</td>\n",
       "      <td>800.74805</td>\n",
       "      <td>1522.75400</td>\n",
       "      <td>...</td>\n",
       "      <td>0.0</td>\n",
       "      <td>NaN</td>\n",
       "      <td>NaN</td>\n",
       "      <td>NaN</td>\n",
       "      <td>NaN</td>\n",
       "      <td>NaN</td>\n",
       "      <td>NaN</td>\n",
       "      <td>NaN</td>\n",
       "      <td>NaN</td>\n",
       "      <td>50000.0</td>\n",
       "    </tr>\n",
       "    <tr>\n",
       "      <th>3</th>\n",
       "      <td>2019000002</td>\n",
       "      <td>2</td>\n",
       "      <td>hhcid20170423</td>\n",
       "      <td>0</td>\n",
       "      <td>0</td>\n",
       "      <td>NaN</td>\n",
       "      <td>A</td>\n",
       "      <td>NaN</td>\n",
       "      <td>800.74805</td>\n",
       "      <td>1538.60690</td>\n",
       "      <td>...</td>\n",
       "      <td>0.0</td>\n",
       "      <td>NaN</td>\n",
       "      <td>NaN</td>\n",
       "      <td>NaN</td>\n",
       "      <td>NaN</td>\n",
       "      <td>NaN</td>\n",
       "      <td>NaN</td>\n",
       "      <td>NaN</td>\n",
       "      <td>NaN</td>\n",
       "      <td>50000.0</td>\n",
       "    </tr>\n",
       "    <tr>\n",
       "      <th>4</th>\n",
       "      <td>2019000002</td>\n",
       "      <td>1</td>\n",
       "      <td>hhcid20170423</td>\n",
       "      <td>0</td>\n",
       "      <td>0</td>\n",
       "      <td>NaN</td>\n",
       "      <td>A</td>\n",
       "      <td>NaN</td>\n",
       "      <td>800.74805</td>\n",
       "      <td>749.96466</td>\n",
       "      <td>...</td>\n",
       "      <td>0.0</td>\n",
       "      <td>NaN</td>\n",
       "      <td>NaN</td>\n",
       "      <td>NaN</td>\n",
       "      <td>NaN</td>\n",
       "      <td>NaN</td>\n",
       "      <td>NaN</td>\n",
       "      <td>NaN</td>\n",
       "      <td>NaN</td>\n",
       "      <td>50000.0</td>\n",
       "    </tr>\n",
       "    <tr>\n",
       "      <th>...</th>\n",
       "      <td>...</td>\n",
       "      <td>...</td>\n",
       "      <td>...</td>\n",
       "      <td>...</td>\n",
       "      <td>...</td>\n",
       "      <td>...</td>\n",
       "      <td>...</td>\n",
       "      <td>...</td>\n",
       "      <td>...</td>\n",
       "      <td>...</td>\n",
       "      <td>...</td>\n",
       "      <td>...</td>\n",
       "      <td>...</td>\n",
       "      <td>...</td>\n",
       "      <td>...</td>\n",
       "      <td>...</td>\n",
       "      <td>...</td>\n",
       "      <td>...</td>\n",
       "      <td>...</td>\n",
       "      <td>...</td>\n",
       "      <td>...</td>\n",
       "    </tr>\n",
       "    <tr>\n",
       "      <th>107003</th>\n",
       "      <td>2019034642</td>\n",
       "      <td>4</td>\n",
       "      <td>hhcid20131048</td>\n",
       "      <td>0</td>\n",
       "      <td>0</td>\n",
       "      <td>15.0</td>\n",
       "      <td>B</td>\n",
       "      <td>NaN</td>\n",
       "      <td>1243.57540</td>\n",
       "      <td>1877.21110</td>\n",
       "      <td>...</td>\n",
       "      <td>NaN</td>\n",
       "      <td>NaN</td>\n",
       "      <td>150000.0</td>\n",
       "      <td>NaN</td>\n",
       "      <td>0.0</td>\n",
       "      <td>NaN</td>\n",
       "      <td>NaN</td>\n",
       "      <td>NaN</td>\n",
       "      <td>NaN</td>\n",
       "      <td>NaN</td>\n",
       "    </tr>\n",
       "    <tr>\n",
       "      <th>107004</th>\n",
       "      <td>2019034643</td>\n",
       "      <td>4</td>\n",
       "      <td>hhcid20131048</td>\n",
       "      <td>0</td>\n",
       "      <td>0</td>\n",
       "      <td>NaN</td>\n",
       "      <td>A</td>\n",
       "      <td>A1</td>\n",
       "      <td>1243.57540</td>\n",
       "      <td>951.02014</td>\n",
       "      <td>...</td>\n",
       "      <td>0.0</td>\n",
       "      <td>NaN</td>\n",
       "      <td>NaN</td>\n",
       "      <td>NaN</td>\n",
       "      <td>0.0</td>\n",
       "      <td>NaN</td>\n",
       "      <td>NaN</td>\n",
       "      <td>NaN</td>\n",
       "      <td>NaN</td>\n",
       "      <td>NaN</td>\n",
       "    </tr>\n",
       "    <tr>\n",
       "      <th>107005</th>\n",
       "      <td>2019034643</td>\n",
       "      <td>1</td>\n",
       "      <td>hhcid20131048</td>\n",
       "      <td>0</td>\n",
       "      <td>0</td>\n",
       "      <td>NaN</td>\n",
       "      <td>A</td>\n",
       "      <td>A1</td>\n",
       "      <td>1243.57540</td>\n",
       "      <td>809.44312</td>\n",
       "      <td>...</td>\n",
       "      <td>0.0</td>\n",
       "      <td>NaN</td>\n",
       "      <td>NaN</td>\n",
       "      <td>NaN</td>\n",
       "      <td>0.0</td>\n",
       "      <td>NaN</td>\n",
       "      <td>NaN</td>\n",
       "      <td>NaN</td>\n",
       "      <td>NaN</td>\n",
       "      <td>NaN</td>\n",
       "    </tr>\n",
       "    <tr>\n",
       "      <th>107006</th>\n",
       "      <td>2019034643</td>\n",
       "      <td>3</td>\n",
       "      <td>hhcid20131048</td>\n",
       "      <td>0</td>\n",
       "      <td>0</td>\n",
       "      <td>NaN</td>\n",
       "      <td>A</td>\n",
       "      <td>A1</td>\n",
       "      <td>1243.57540</td>\n",
       "      <td>1030.42100</td>\n",
       "      <td>...</td>\n",
       "      <td>0.0</td>\n",
       "      <td>NaN</td>\n",
       "      <td>NaN</td>\n",
       "      <td>NaN</td>\n",
       "      <td>0.0</td>\n",
       "      <td>NaN</td>\n",
       "      <td>NaN</td>\n",
       "      <td>NaN</td>\n",
       "      <td>NaN</td>\n",
       "      <td>NaN</td>\n",
       "    </tr>\n",
       "    <tr>\n",
       "      <th>107007</th>\n",
       "      <td>2019034643</td>\n",
       "      <td>2</td>\n",
       "      <td>hhcid20131048</td>\n",
       "      <td>0</td>\n",
       "      <td>0</td>\n",
       "      <td>NaN</td>\n",
       "      <td>A</td>\n",
       "      <td>A1</td>\n",
       "      <td>1243.57540</td>\n",
       "      <td>1063.86520</td>\n",
       "      <td>...</td>\n",
       "      <td>0.0</td>\n",
       "      <td>NaN</td>\n",
       "      <td>NaN</td>\n",
       "      <td>NaN</td>\n",
       "      <td>0.0</td>\n",
       "      <td>NaN</td>\n",
       "      <td>NaN</td>\n",
       "      <td>NaN</td>\n",
       "      <td>NaN</td>\n",
       "      <td>NaN</td>\n",
       "    </tr>\n",
       "  </tbody>\n",
       "</table>\n",
       "<p>107008 rows × 54 columns</p>\n",
       "</div>"
      ],
      "text/plain": [
       "              hhid  pline          hhcid  track  rural  pa28  pab pabcd  \\\n",
       "0       2019000001      1  hhcid20170423      0      0   NaN  NaN   NaN   \n",
       "1       2019000002      4  hhcid20170423      0      0   NaN    A   NaN   \n",
       "2       2019000002      3  hhcid20170423      0      0   NaN    A   NaN   \n",
       "3       2019000002      2  hhcid20170423      0      0   NaN    A   NaN   \n",
       "4       2019000002      1  hhcid20170423      0      0   NaN    A   NaN   \n",
       "...            ...    ...            ...    ...    ...   ...  ...   ...   \n",
       "107003  2019034642      4  hhcid20131048      0      0  15.0    B   NaN   \n",
       "107004  2019034643      4  hhcid20131048      0      0   NaN    A    A1   \n",
       "107005  2019034643      1  hhcid20131048      0      0   NaN    A    A1   \n",
       "107006  2019034643      3  hhcid20131048      0      0   NaN    A    A1   \n",
       "107007  2019034643      2  hhcid20131048      0      0   NaN    A    A1   \n",
       "\n",
       "         weight_hh  weight_ind  ... agri_debt  busi_debt  house_debt  \\\n",
       "0        800.74805   616.55975  ...       NaN        NaN         NaN   \n",
       "1        800.74805  1556.92380  ...       0.0        NaN         NaN   \n",
       "2        800.74805  1522.75400  ...       0.0        NaN         NaN   \n",
       "3        800.74805  1538.60690  ...       0.0        NaN         NaN   \n",
       "4        800.74805   749.96466  ...       0.0        NaN         NaN   \n",
       "...            ...         ...  ...       ...        ...         ...   \n",
       "107003  1243.57540  1877.21110  ...       NaN        NaN    150000.0   \n",
       "107004  1243.57540   951.02014  ...       0.0        NaN         NaN   \n",
       "107005  1243.57540   809.44312  ...       0.0        NaN         NaN   \n",
       "107006  1243.57540  1030.42100  ...       0.0        NaN         NaN   \n",
       "107007  1243.57540  1063.86520  ...       0.0        NaN         NaN   \n",
       "\n",
       "        comprop_debt vehicle_debt othnf_debt  educ_debt  credit_debt  \\\n",
       "0                NaN          NaN        NaN        NaN          NaN   \n",
       "1                NaN          NaN        NaN        NaN          NaN   \n",
       "2                NaN          NaN        NaN        NaN          NaN   \n",
       "3                NaN          NaN        NaN        NaN          NaN   \n",
       "4                NaN          NaN        NaN        NaN          NaN   \n",
       "...              ...          ...        ...        ...          ...   \n",
       "107003           NaN          0.0        NaN        NaN          NaN   \n",
       "107004           NaN          0.0        NaN        NaN          NaN   \n",
       "107005           NaN          0.0        NaN        NaN          NaN   \n",
       "107006           NaN          0.0        NaN        NaN          NaN   \n",
       "107007           NaN          0.0        NaN        NaN          NaN   \n",
       "\n",
       "        medical_debt  other_debt  \n",
       "0                NaN         NaN  \n",
       "1                NaN     50000.0  \n",
       "2                NaN     50000.0  \n",
       "3                NaN     50000.0  \n",
       "4                NaN     50000.0  \n",
       "...              ...         ...  \n",
       "107003           NaN         NaN  \n",
       "107004           NaN         NaN  \n",
       "107005           NaN         NaN  \n",
       "107006           NaN         NaN  \n",
       "107007           NaN         NaN  \n",
       "\n",
       "[107008 rows x 54 columns]"
      ]
     },
     "execution_count": 135,
     "metadata": {},
     "output_type": "execute_result"
    }
   ],
   "source": [
    "df_3"
   ]
  },
  {
   "cell_type": "code",
   "execution_count": 12,
   "metadata": {},
   "outputs": [],
   "source": [
    "def convert_to_float(val):\n",
    "    if type(val) == str:\n",
    "        # print(val)\n",
    "        return\n",
    "    else: \n",
    "        try:   \n",
    "            return float(val)\n",
    "        except ValueError:\n",
    "            return 0"
   ]
  },
  {
   "cell_type": "code",
   "execution_count": 13,
   "metadata": {},
   "outputs": [
    {
     "data": {
      "text/html": [
       "<div>\n",
       "<style scoped>\n",
       "    .dataframe tbody tr th:only-of-type {\n",
       "        vertical-align: middle;\n",
       "    }\n",
       "\n",
       "    .dataframe tbody tr th {\n",
       "        vertical-align: top;\n",
       "    }\n",
       "\n",
       "    .dataframe thead th {\n",
       "        text-align: right;\n",
       "    }\n",
       "</style>\n",
       "<table border=\"1\" class=\"dataframe\">\n",
       "  <thead>\n",
       "    <tr style=\"text-align: right;\">\n",
       "      <th></th>\n",
       "      <th>hhid</th>\n",
       "      <th>hhid_2011</th>\n",
       "      <th>hhid_2013</th>\n",
       "      <th>hhid_2015</th>\n",
       "      <th>hhid_2017</th>\n",
       "      <th>pline</th>\n",
       "      <th>track</th>\n",
       "      <th>hhead</th>\n",
       "      <th>a1106</th>\n",
       "      <th>a1106c</th>\n",
       "      <th>...</th>\n",
       "      <th>s8015_11_mc</th>\n",
       "      <th>s8015_12_mc</th>\n",
       "      <th>s8015_13_mc</th>\n",
       "      <th>s8015_14_mc</th>\n",
       "      <th>s8015_7788_mc</th>\n",
       "      <th>s8016</th>\n",
       "      <th>s8017</th>\n",
       "      <th>s8018</th>\n",
       "      <th>s8018_imp</th>\n",
       "      <th>s8018_imp_dummy</th>\n",
       "    </tr>\n",
       "  </thead>\n",
       "  <tbody>\n",
       "    <tr>\n",
       "      <th>63</th>\n",
       "      <td>2015020600</td>\n",
       "      <td>.</td>\n",
       "      <td>.</td>\n",
       "      <td>2015020600</td>\n",
       "      <td>2017000021</td>\n",
       "      <td>2</td>\n",
       "      <td>1</td>\n",
       "      <td>1.0</td>\n",
       "      <td>1.0</td>\n",
       "      <td>NaN</td>\n",
       "      <td>...</td>\n",
       "      <td>NaN</td>\n",
       "      <td>NaN</td>\n",
       "      <td>NaN</td>\n",
       "      <td>NaN</td>\n",
       "      <td>NaN</td>\n",
       "      <td>NaN</td>\n",
       "      <td>NaN</td>\n",
       "      <td>NaN</td>\n",
       "      <td>NaN</td>\n",
       "      <td>NaN</td>\n",
       "    </tr>\n",
       "    <tr>\n",
       "      <th>64</th>\n",
       "      <td>2015020600</td>\n",
       "      <td>.</td>\n",
       "      <td>.</td>\n",
       "      <td>2015020600</td>\n",
       "      <td>2017000021</td>\n",
       "      <td>1</td>\n",
       "      <td>1</td>\n",
       "      <td>NaN</td>\n",
       "      <td>1.0</td>\n",
       "      <td>NaN</td>\n",
       "      <td>...</td>\n",
       "      <td>NaN</td>\n",
       "      <td>NaN</td>\n",
       "      <td>NaN</td>\n",
       "      <td>NaN</td>\n",
       "      <td>NaN</td>\n",
       "      <td>NaN</td>\n",
       "      <td>NaN</td>\n",
       "      <td>NaN</td>\n",
       "      <td>NaN</td>\n",
       "      <td>NaN</td>\n",
       "    </tr>\n",
       "    <tr>\n",
       "      <th>75</th>\n",
       "      <td>2015020171</td>\n",
       "      <td>.</td>\n",
       "      <td>.</td>\n",
       "      <td>2015020171</td>\n",
       "      <td>2017000027</td>\n",
       "      <td>21</td>\n",
       "      <td>1</td>\n",
       "      <td>1.0</td>\n",
       "      <td>NaN</td>\n",
       "      <td>NaN</td>\n",
       "      <td>...</td>\n",
       "      <td>NaN</td>\n",
       "      <td>NaN</td>\n",
       "      <td>NaN</td>\n",
       "      <td>NaN</td>\n",
       "      <td>NaN</td>\n",
       "      <td>NaN</td>\n",
       "      <td>NaN</td>\n",
       "      <td>NaN</td>\n",
       "      <td>NaN</td>\n",
       "      <td>NaN</td>\n",
       "    </tr>\n",
       "    <tr>\n",
       "      <th>76</th>\n",
       "      <td>2015020171</td>\n",
       "      <td>.</td>\n",
       "      <td>.</td>\n",
       "      <td>2015020171</td>\n",
       "      <td>2017000027</td>\n",
       "      <td>1</td>\n",
       "      <td>1</td>\n",
       "      <td>NaN</td>\n",
       "      <td>1.0</td>\n",
       "      <td>NaN</td>\n",
       "      <td>...</td>\n",
       "      <td>NaN</td>\n",
       "      <td>NaN</td>\n",
       "      <td>NaN</td>\n",
       "      <td>NaN</td>\n",
       "      <td>NaN</td>\n",
       "      <td>NaN</td>\n",
       "      <td>NaN</td>\n",
       "      <td>NaN</td>\n",
       "      <td>NaN</td>\n",
       "      <td>NaN</td>\n",
       "    </tr>\n",
       "    <tr>\n",
       "      <th>88</th>\n",
       "      <td>2017000033</td>\n",
       "      <td>.</td>\n",
       "      <td>.</td>\n",
       "      <td>.</td>\n",
       "      <td>2017000033</td>\n",
       "      <td>1</td>\n",
       "      <td>0</td>\n",
       "      <td>NaN</td>\n",
       "      <td>NaN</td>\n",
       "      <td>NaN</td>\n",
       "      <td>...</td>\n",
       "      <td>NaN</td>\n",
       "      <td>NaN</td>\n",
       "      <td>NaN</td>\n",
       "      <td>NaN</td>\n",
       "      <td>NaN</td>\n",
       "      <td>NaN</td>\n",
       "      <td>NaN</td>\n",
       "      <td>NaN</td>\n",
       "      <td>NaN</td>\n",
       "      <td>NaN</td>\n",
       "    </tr>\n",
       "    <tr>\n",
       "      <th>...</th>\n",
       "      <td>...</td>\n",
       "      <td>...</td>\n",
       "      <td>...</td>\n",
       "      <td>...</td>\n",
       "      <td>...</td>\n",
       "      <td>...</td>\n",
       "      <td>...</td>\n",
       "      <td>...</td>\n",
       "      <td>...</td>\n",
       "      <td>...</td>\n",
       "      <td>...</td>\n",
       "      <td>...</td>\n",
       "      <td>...</td>\n",
       "      <td>...</td>\n",
       "      <td>...</td>\n",
       "      <td>...</td>\n",
       "      <td>...</td>\n",
       "      <td>...</td>\n",
       "      <td>...</td>\n",
       "      <td>...</td>\n",
       "      <td>...</td>\n",
       "    </tr>\n",
       "    <tr>\n",
       "      <th>126841</th>\n",
       "      <td>2015019592</td>\n",
       "      <td>.</td>\n",
       "      <td>.</td>\n",
       "      <td>2015019592</td>\n",
       "      <td>2017039957</td>\n",
       "      <td>1</td>\n",
       "      <td>1</td>\n",
       "      <td>1.0</td>\n",
       "      <td>1.0</td>\n",
       "      <td>NaN</td>\n",
       "      <td>...</td>\n",
       "      <td>NaN</td>\n",
       "      <td>NaN</td>\n",
       "      <td>NaN</td>\n",
       "      <td>NaN</td>\n",
       "      <td>NaN</td>\n",
       "      <td>NaN</td>\n",
       "      <td>NaN</td>\n",
       "      <td>NaN</td>\n",
       "      <td>NaN</td>\n",
       "      <td>NaN</td>\n",
       "    </tr>\n",
       "    <tr>\n",
       "      <th>126939</th>\n",
       "      <td>2017039989</td>\n",
       "      <td>.</td>\n",
       "      <td>.</td>\n",
       "      <td>.</td>\n",
       "      <td>2017039989</td>\n",
       "      <td>1</td>\n",
       "      <td>0</td>\n",
       "      <td>1.0</td>\n",
       "      <td>NaN</td>\n",
       "      <td>NaN</td>\n",
       "      <td>...</td>\n",
       "      <td>NaN</td>\n",
       "      <td>NaN</td>\n",
       "      <td>NaN</td>\n",
       "      <td>NaN</td>\n",
       "      <td>NaN</td>\n",
       "      <td>NaN</td>\n",
       "      <td>NaN</td>\n",
       "      <td>NaN</td>\n",
       "      <td>NaN</td>\n",
       "      <td>NaN</td>\n",
       "    </tr>\n",
       "    <tr>\n",
       "      <th>126940</th>\n",
       "      <td>2017039989</td>\n",
       "      <td>.</td>\n",
       "      <td>.</td>\n",
       "      <td>.</td>\n",
       "      <td>2017039989</td>\n",
       "      <td>2</td>\n",
       "      <td>0</td>\n",
       "      <td>NaN</td>\n",
       "      <td>NaN</td>\n",
       "      <td>NaN</td>\n",
       "      <td>...</td>\n",
       "      <td>NaN</td>\n",
       "      <td>NaN</td>\n",
       "      <td>NaN</td>\n",
       "      <td>NaN</td>\n",
       "      <td>NaN</td>\n",
       "      <td>NaN</td>\n",
       "      <td>NaN</td>\n",
       "      <td>NaN</td>\n",
       "      <td>NaN</td>\n",
       "      <td>NaN</td>\n",
       "    </tr>\n",
       "    <tr>\n",
       "      <th>126978</th>\n",
       "      <td>2015020116</td>\n",
       "      <td>.</td>\n",
       "      <td>.</td>\n",
       "      <td>2015020116</td>\n",
       "      <td>2017040001</td>\n",
       "      <td>2</td>\n",
       "      <td>1</td>\n",
       "      <td>NaN</td>\n",
       "      <td>3.0</td>\n",
       "      <td>61.0</td>\n",
       "      <td>...</td>\n",
       "      <td>NaN</td>\n",
       "      <td>NaN</td>\n",
       "      <td>NaN</td>\n",
       "      <td>NaN</td>\n",
       "      <td>NaN</td>\n",
       "      <td>NaN</td>\n",
       "      <td>NaN</td>\n",
       "      <td>NaN</td>\n",
       "      <td>NaN</td>\n",
       "      <td>NaN</td>\n",
       "    </tr>\n",
       "    <tr>\n",
       "      <th>126979</th>\n",
       "      <td>2015020116</td>\n",
       "      <td>.</td>\n",
       "      <td>.</td>\n",
       "      <td>2015020116</td>\n",
       "      <td>2017040001</td>\n",
       "      <td>1</td>\n",
       "      <td>1</td>\n",
       "      <td>1.0</td>\n",
       "      <td>2.0</td>\n",
       "      <td>NaN</td>\n",
       "      <td>...</td>\n",
       "      <td>NaN</td>\n",
       "      <td>NaN</td>\n",
       "      <td>NaN</td>\n",
       "      <td>NaN</td>\n",
       "      <td>NaN</td>\n",
       "      <td>NaN</td>\n",
       "      <td>NaN</td>\n",
       "      <td>NaN</td>\n",
       "      <td>NaN</td>\n",
       "      <td>NaN</td>\n",
       "    </tr>\n",
       "  </tbody>\n",
       "</table>\n",
       "<p>6400 rows × 708 columns</p>\n",
       "</div>"
      ],
      "text/plain": [
       "              hhid hhid_2011 hhid_2013   hhid_2015   hhid_2017  pline  track  \\\n",
       "63      2015020600         .         .  2015020600  2017000021      2      1   \n",
       "64      2015020600         .         .  2015020600  2017000021      1      1   \n",
       "75      2015020171         .         .  2015020171  2017000027     21      1   \n",
       "76      2015020171         .         .  2015020171  2017000027      1      1   \n",
       "88      2017000033         .         .           .  2017000033      1      0   \n",
       "...            ...       ...       ...         ...         ...    ...    ...   \n",
       "126841  2015019592         .         .  2015019592  2017039957      1      1   \n",
       "126939  2017039989         .         .           .  2017039989      1      0   \n",
       "126940  2017039989         .         .           .  2017039989      2      0   \n",
       "126978  2015020116         .         .  2015020116  2017040001      2      1   \n",
       "126979  2015020116         .         .  2015020116  2017040001      1      1   \n",
       "\n",
       "        hhead  a1106  a1106c  ...  s8015_11_mc  s8015_12_mc  s8015_13_mc  \\\n",
       "63        1.0    1.0     NaN  ...          NaN          NaN          NaN   \n",
       "64        NaN    1.0     NaN  ...          NaN          NaN          NaN   \n",
       "75        1.0    NaN     NaN  ...          NaN          NaN          NaN   \n",
       "76        NaN    1.0     NaN  ...          NaN          NaN          NaN   \n",
       "88        NaN    NaN     NaN  ...          NaN          NaN          NaN   \n",
       "...       ...    ...     ...  ...          ...          ...          ...   \n",
       "126841    1.0    1.0     NaN  ...          NaN          NaN          NaN   \n",
       "126939    1.0    NaN     NaN  ...          NaN          NaN          NaN   \n",
       "126940    NaN    NaN     NaN  ...          NaN          NaN          NaN   \n",
       "126978    NaN    3.0    61.0  ...          NaN          NaN          NaN   \n",
       "126979    1.0    2.0     NaN  ...          NaN          NaN          NaN   \n",
       "\n",
       "        s8015_14_mc  s8015_7788_mc  s8016  s8017 s8018  s8018_imp  \\\n",
       "63              NaN            NaN    NaN    NaN   NaN        NaN   \n",
       "64              NaN            NaN    NaN    NaN   NaN        NaN   \n",
       "75              NaN            NaN    NaN    NaN   NaN        NaN   \n",
       "76              NaN            NaN    NaN    NaN   NaN        NaN   \n",
       "88              NaN            NaN    NaN    NaN   NaN        NaN   \n",
       "...             ...            ...    ...    ...   ...        ...   \n",
       "126841          NaN            NaN    NaN    NaN   NaN        NaN   \n",
       "126939          NaN            NaN    NaN    NaN   NaN        NaN   \n",
       "126940          NaN            NaN    NaN    NaN   NaN        NaN   \n",
       "126978          NaN            NaN    NaN    NaN   NaN        NaN   \n",
       "126979          NaN            NaN    NaN    NaN   NaN        NaN   \n",
       "\n",
       "        s8018_imp_dummy  \n",
       "63                  NaN  \n",
       "64                  NaN  \n",
       "75                  NaN  \n",
       "76                  NaN  \n",
       "88                  NaN  \n",
       "...                 ...  \n",
       "126841              NaN  \n",
       "126939              NaN  \n",
       "126940              NaN  \n",
       "126978              NaN  \n",
       "126979              NaN  \n",
       "\n",
       "[6400 rows x 708 columns]"
      ]
     },
     "execution_count": 13,
     "metadata": {},
     "output_type": "execute_result"
    }
   ],
   "source": [
    "sd"
   ]
  },
  {
   "cell_type": "code",
   "execution_count": 37,
   "metadata": {},
   "outputs": [
    {
     "data": {
      "text/plain": [
       "Index(['d1103a', 'f1001a', 'f1001a_ex1', 'f1003', 'f1005', 'f1005_imp',\n",
       "       'f1005_imp_dummy', 'f1005it', 'f1008', 'f1008_imp',\n",
       "       ...\n",
       "       'f6204', 'f6204_imp', 'f6204_imp_dummy', 'f6501', 'f6502', 'f6502_imp',\n",
       "       'f6502_imp_dummy', 'f6503', 'f6503_imp', 'f6503_imp_dummy'],\n",
       "      dtype='object', length=156)"
      ]
     },
     "execution_count": 37,
     "metadata": {},
     "output_type": "execute_result"
    }
   ],
   "source": [
    "sd.columns[242:398]"
   ]
  },
  {
   "cell_type": "code",
   "execution_count": 47,
   "metadata": {},
   "outputs": [
    {
     "name": "stdout",
     "output_type": "stream",
     "text": [
      "0.20617868363366088\n",
      "0.7938213163663391\n"
     ]
    }
   ],
   "source": [
    "sd_1 = sd[sd[\"hhead\"]==1.0]\n",
    "sd_f = sd_1.iloc[:,215:310]\n",
    "sd_f = sd_f.applymap(convert_to_float)\n",
    "sd_f =sd_f.fillna(0)\n",
    "a = sd_f.sum(axis=1).mean()\n",
    "\n",
    "sd_w = sd_1.iloc[:,55:215]\n",
    "sd_w = sd_w.applymap(convert_to_float)\n",
    "sd_w =sd_w.fillna(0)\n",
    "b = sd_w.sum(axis=1).mean()\n",
    "print(a/(a+b))\n",
    "print(b/(a+b))"
   ]
  },
  {
   "cell_type": "code",
   "execution_count": 48,
   "metadata": {},
   "outputs": [
    {
     "data": {
      "text/plain": [
       "19825.147811821473"
      ]
     },
     "execution_count": 48,
     "metadata": {},
     "output_type": "execute_result"
    }
   ],
   "source": [
    "a+c"
   ]
  },
  {
   "cell_type": "code",
   "execution_count": 49,
   "metadata": {},
   "outputs": [
    {
     "data": {
      "text/plain": [
       "67983.06640723818"
      ]
     },
     "execution_count": 49,
     "metadata": {},
     "output_type": "execute_result"
    }
   ],
   "source": [
    "b+d"
   ]
  },
  {
   "cell_type": "code",
   "execution_count": 50,
   "metadata": {},
   "outputs": [
    {
     "name": "stdout",
     "output_type": "stream",
     "text": [
      "0.2574084551895961\n",
      "0.742591544810404\n"
     ]
    }
   ],
   "source": [
    "sd_2 = sd[sd[\"hhead\"]!=1.0]\n",
    "sd_f = sd_2.iloc[:,215:310]\n",
    "sd_f = sd_f.applymap(convert_to_float)\n",
    "sd_f =sd_f.fillna(0)\n",
    "c = sd_f.sum(axis=1).mean()\n",
    "\n",
    "sd_w = sd_2.iloc[:,55:215]\n",
    "sd_w = sd_w.applymap(convert_to_float)\n",
    "sd_w =sd_w.fillna(0)\n",
    "d = sd_w.sum(axis=1).mean()\n",
    "print(c/(c+d))\n",
    "print(d/(c+d))"
   ]
  },
  {
   "cell_type": "markdown",
   "metadata": {},
   "source": []
  },
  {
   "cell_type": "code",
   "execution_count": 202,
   "metadata": {},
   "outputs": [],
   "source": [
    "sd_3 =df_3[df_3[df_3.columns[29]] == \"山东\"]"
   ]
  },
  {
   "cell_type": "code",
   "execution_count": 205,
   "metadata": {},
   "outputs": [
    {
     "data": {
      "text/plain": [
       "6800"
      ]
     },
     "execution_count": 205,
     "metadata": {},
     "output_type": "execute_result"
    }
   ],
   "source": [
    "df_3.iloc[324,29]"
   ]
  },
  {
   "cell_type": "code",
   "execution_count": 221,
   "metadata": {},
   "outputs": [
    {
     "data": {
      "text/plain": [
       "Index(['f6503_2_imp', 'f6503_2_imp_dummy', 'f6503_3', 'f6503_3_imp',\n",
       "       'f6503_3_imp_dummy', 'f6503_4', 'f6503_4_imp', 'f6503_4_imp_dummy',\n",
       "       'f6503_7777', 'f6503_7777_imp', 'f6503_7777_imp_dummy', 'h3002a',\n",
       "       'h3003a', 'h3003a_1_mc', 'h3003a_2_mc', 'h3003a_3_mc', 'h3003a_4_mc',\n",
       "       'h3003a_5_mc', 'h3003a_6_mc', 'h3004a', 'h3004a_ex1', 's1001b',\n",
       "       's2013b'],\n",
       "      dtype='object')"
      ]
     },
     "execution_count": 221,
     "metadata": {},
     "output_type": "execute_result"
    }
   ],
   "source": [
    "sd.columns[400:]"
   ]
  },
  {
   "cell_type": "code",
   "execution_count": 83,
   "metadata": {},
   "outputs": [
    {
     "data": {
      "text/plain": [
       "25573.80664647268"
      ]
     },
     "execution_count": 83,
     "metadata": {},
     "output_type": "execute_result"
    }
   ],
   "source": [
    "sd_3_1 =sd_3[sd_3[\"rural\"]==1]\n",
    "sd_3_1[\"swgt\"].mean()"
   ]
  },
  {
   "cell_type": "code",
   "execution_count": 84,
   "metadata": {},
   "outputs": [
    {
     "data": {
      "text/plain": [
       "13988.554260856085"
      ]
     },
     "execution_count": 84,
     "metadata": {},
     "output_type": "execute_result"
    }
   ],
   "source": [
    "sd_3_0=sd_3[sd_3[\"rural\"]==0]\n",
    "sd_3_0[\"swgt\"].mean()"
   ]
  },
  {
   "cell_type": "code",
   "execution_count": 43,
   "metadata": {},
   "outputs": [
    {
     "data": {
      "text/html": [
       "<div>\n",
       "<style scoped>\n",
       "    .dataframe tbody tr th:only-of-type {\n",
       "        vertical-align: middle;\n",
       "    }\n",
       "\n",
       "    .dataframe tbody tr th {\n",
       "        vertical-align: top;\n",
       "    }\n",
       "\n",
       "    .dataframe thead th {\n",
       "        text-align: right;\n",
       "    }\n",
       "</style>\n",
       "<table border=\"1\" class=\"dataframe\">\n",
       "  <thead>\n",
       "    <tr style=\"text-align: right;\">\n",
       "      <th></th>\n",
       "      <th>respond</th>\n",
       "      <th>remark</th>\n",
       "      <th>a1106</th>\n",
       "      <th>a1106c</th>\n",
       "      <th>a1108</th>\n",
       "      <th>a1109</th>\n",
       "      <th>a1109_ex1</th>\n",
       "      <th>a1113</th>\n",
       "      <th>a1114</th>\n",
       "      <th>a1115</th>\n",
       "      <th>...</th>\n",
       "      <th>a3042ca_ex1</th>\n",
       "      <th>a3043</th>\n",
       "      <th>a3043a</th>\n",
       "      <th>a3044</th>\n",
       "      <th>a3045</th>\n",
       "      <th>a3045a</th>\n",
       "      <th>a3045a_ex1</th>\n",
       "      <th>a3046</th>\n",
       "      <th>a3047</th>\n",
       "      <th>a3048</th>\n",
       "    </tr>\n",
       "  </thead>\n",
       "  <tbody>\n",
       "    <tr>\n",
       "      <th>49</th>\n",
       "      <td>0</td>\n",
       "      <td>NaN</td>\n",
       "      <td>2.0</td>\n",
       "      <td>NaN</td>\n",
       "      <td>1.0</td>\n",
       "      <td>NaN</td>\n",
       "      <td>NaN</td>\n",
       "      <td>NaN</td>\n",
       "      <td>NaN</td>\n",
       "      <td>NaN</td>\n",
       "      <td>...</td>\n",
       "      <td>NaN</td>\n",
       "      <td>NaN</td>\n",
       "      <td>NaN</td>\n",
       "      <td>NaN</td>\n",
       "      <td>NaN</td>\n",
       "      <td>NaN</td>\n",
       "      <td>NaN</td>\n",
       "      <td>2</td>\n",
       "      <td>NaN</td>\n",
       "      <td>NaN</td>\n",
       "    </tr>\n",
       "    <tr>\n",
       "      <th>50</th>\n",
       "      <td>0</td>\n",
       "      <td>NaN</td>\n",
       "      <td>1.0</td>\n",
       "      <td>NaN</td>\n",
       "      <td>1.0</td>\n",
       "      <td>NaN</td>\n",
       "      <td>NaN</td>\n",
       "      <td>NaN</td>\n",
       "      <td>NaN</td>\n",
       "      <td>NaN</td>\n",
       "      <td>...</td>\n",
       "      <td>NaN</td>\n",
       "      <td>NaN</td>\n",
       "      <td>NaN</td>\n",
       "      <td>NaN</td>\n",
       "      <td>NaN</td>\n",
       "      <td>NaN</td>\n",
       "      <td>NaN</td>\n",
       "      <td>NaN</td>\n",
       "      <td>NaN</td>\n",
       "      <td>NaN</td>\n",
       "    </tr>\n",
       "    <tr>\n",
       "      <th>52</th>\n",
       "      <td>0</td>\n",
       "      <td>NaN</td>\n",
       "      <td>NaN</td>\n",
       "      <td>NaN</td>\n",
       "      <td>NaN</td>\n",
       "      <td>NaN</td>\n",
       "      <td>NaN</td>\n",
       "      <td>1.0</td>\n",
       "      <td>1945.0</td>\n",
       "      <td>2.0</td>\n",
       "      <td>...</td>\n",
       "      <td>NaN</td>\n",
       "      <td>NaN</td>\n",
       "      <td>NaN</td>\n",
       "      <td>NaN</td>\n",
       "      <td>NaN</td>\n",
       "      <td>NaN</td>\n",
       "      <td>NaN</td>\n",
       "      <td>NaN</td>\n",
       "      <td>NaN</td>\n",
       "      <td>NaN</td>\n",
       "    </tr>\n",
       "    <tr>\n",
       "      <th>81</th>\n",
       "      <td>0</td>\n",
       "      <td>NaN</td>\n",
       "      <td>1.0</td>\n",
       "      <td>NaN</td>\n",
       "      <td>1.0</td>\n",
       "      <td>NaN</td>\n",
       "      <td>NaN</td>\n",
       "      <td>NaN</td>\n",
       "      <td>NaN</td>\n",
       "      <td>NaN</td>\n",
       "      <td>...</td>\n",
       "      <td>NaN</td>\n",
       "      <td>NaN</td>\n",
       "      <td>NaN</td>\n",
       "      <td>NaN</td>\n",
       "      <td>NaN</td>\n",
       "      <td>NaN</td>\n",
       "      <td>NaN</td>\n",
       "      <td>NaN</td>\n",
       "      <td>NaN</td>\n",
       "      <td>NaN</td>\n",
       "    </tr>\n",
       "    <tr>\n",
       "      <th>91</th>\n",
       "      <td>0</td>\n",
       "      <td>NaN</td>\n",
       "      <td>1.0</td>\n",
       "      <td>NaN</td>\n",
       "      <td>1.0</td>\n",
       "      <td>NaN</td>\n",
       "      <td>NaN</td>\n",
       "      <td>NaN</td>\n",
       "      <td>NaN</td>\n",
       "      <td>NaN</td>\n",
       "      <td>...</td>\n",
       "      <td>NaN</td>\n",
       "      <td>NaN</td>\n",
       "      <td>NaN</td>\n",
       "      <td>2012.0</td>\n",
       "      <td>2</td>\n",
       "      <td>3</td>\n",
       "      <td>NaN</td>\n",
       "      <td>2</td>\n",
       "      <td>NaN</td>\n",
       "      <td>NaN</td>\n",
       "    </tr>\n",
       "    <tr>\n",
       "      <th>...</th>\n",
       "      <td>...</td>\n",
       "      <td>...</td>\n",
       "      <td>...</td>\n",
       "      <td>...</td>\n",
       "      <td>...</td>\n",
       "      <td>...</td>\n",
       "      <td>...</td>\n",
       "      <td>...</td>\n",
       "      <td>...</td>\n",
       "      <td>...</td>\n",
       "      <td>...</td>\n",
       "      <td>...</td>\n",
       "      <td>...</td>\n",
       "      <td>...</td>\n",
       "      <td>...</td>\n",
       "      <td>...</td>\n",
       "      <td>...</td>\n",
       "      <td>...</td>\n",
       "      <td>...</td>\n",
       "      <td>...</td>\n",
       "      <td>...</td>\n",
       "    </tr>\n",
       "    <tr>\n",
       "      <th>122938</th>\n",
       "      <td>1</td>\n",
       "      <td>NaN</td>\n",
       "      <td>NaN</td>\n",
       "      <td>NaN</td>\n",
       "      <td>NaN</td>\n",
       "      <td>NaN</td>\n",
       "      <td>NaN</td>\n",
       "      <td>NaN</td>\n",
       "      <td>NaN</td>\n",
       "      <td>NaN</td>\n",
       "      <td>...</td>\n",
       "      <td>NaN</td>\n",
       "      <td>NaN</td>\n",
       "      <td>NaN</td>\n",
       "      <td>NaN</td>\n",
       "      <td>NaN</td>\n",
       "      <td>NaN</td>\n",
       "      <td>NaN</td>\n",
       "      <td>NaN</td>\n",
       "      <td>NaN</td>\n",
       "      <td>NaN</td>\n",
       "    </tr>\n",
       "    <tr>\n",
       "      <th>122940</th>\n",
       "      <td>0</td>\n",
       "      <td>NaN</td>\n",
       "      <td>NaN</td>\n",
       "      <td>NaN</td>\n",
       "      <td>NaN</td>\n",
       "      <td>NaN</td>\n",
       "      <td>NaN</td>\n",
       "      <td>NaN</td>\n",
       "      <td>NaN</td>\n",
       "      <td>NaN</td>\n",
       "      <td>...</td>\n",
       "      <td>NaN</td>\n",
       "      <td>NaN</td>\n",
       "      <td>NaN</td>\n",
       "      <td>NaN</td>\n",
       "      <td>NaN</td>\n",
       "      <td>NaN</td>\n",
       "      <td>NaN</td>\n",
       "      <td>NaN</td>\n",
       "      <td>NaN</td>\n",
       "      <td>NaN</td>\n",
       "    </tr>\n",
       "    <tr>\n",
       "      <th>122941</th>\n",
       "      <td>0</td>\n",
       "      <td>NaN</td>\n",
       "      <td>NaN</td>\n",
       "      <td>NaN</td>\n",
       "      <td>NaN</td>\n",
       "      <td>NaN</td>\n",
       "      <td>NaN</td>\n",
       "      <td>NaN</td>\n",
       "      <td>NaN</td>\n",
       "      <td>NaN</td>\n",
       "      <td>...</td>\n",
       "      <td>NaN</td>\n",
       "      <td>NaN</td>\n",
       "      <td>NaN</td>\n",
       "      <td>NaN</td>\n",
       "      <td>NaN</td>\n",
       "      <td>NaN</td>\n",
       "      <td>NaN</td>\n",
       "      <td>NaN</td>\n",
       "      <td>NaN</td>\n",
       "      <td>NaN</td>\n",
       "    </tr>\n",
       "    <tr>\n",
       "      <th>122942</th>\n",
       "      <td>0</td>\n",
       "      <td>NaN</td>\n",
       "      <td>NaN</td>\n",
       "      <td>NaN</td>\n",
       "      <td>NaN</td>\n",
       "      <td>NaN</td>\n",
       "      <td>NaN</td>\n",
       "      <td>NaN</td>\n",
       "      <td>NaN</td>\n",
       "      <td>NaN</td>\n",
       "      <td>...</td>\n",
       "      <td>NaN</td>\n",
       "      <td>NaN</td>\n",
       "      <td>NaN</td>\n",
       "      <td>NaN</td>\n",
       "      <td>NaN</td>\n",
       "      <td>NaN</td>\n",
       "      <td>NaN</td>\n",
       "      <td>NaN</td>\n",
       "      <td>NaN</td>\n",
       "      <td>NaN</td>\n",
       "    </tr>\n",
       "    <tr>\n",
       "      <th>126639</th>\n",
       "      <td>0</td>\n",
       "      <td>NaN</td>\n",
       "      <td>NaN</td>\n",
       "      <td>NaN</td>\n",
       "      <td>NaN</td>\n",
       "      <td>NaN</td>\n",
       "      <td>NaN</td>\n",
       "      <td>NaN</td>\n",
       "      <td>NaN</td>\n",
       "      <td>NaN</td>\n",
       "      <td>...</td>\n",
       "      <td>NaN</td>\n",
       "      <td>NaN</td>\n",
       "      <td>NaN</td>\n",
       "      <td>NaN</td>\n",
       "      <td>NaN</td>\n",
       "      <td>NaN</td>\n",
       "      <td>NaN</td>\n",
       "      <td>2</td>\n",
       "      <td>NaN</td>\n",
       "      <td>NaN</td>\n",
       "    </tr>\n",
       "  </tbody>\n",
       "</table>\n",
       "<p>150 rows × 121 columns</p>\n",
       "</div>"
      ],
      "text/plain": [
       "        respond remark a1106  a1106c  a1108 a1109 a1109_ex1  a1113   a1114  \\\n",
       "49            0    NaN   2.0     NaN    1.0   NaN       NaN    NaN     NaN   \n",
       "50            0    NaN   1.0     NaN    1.0   NaN       NaN    NaN     NaN   \n",
       "52            0    NaN   NaN     NaN    NaN   NaN       NaN    1.0  1945.0   \n",
       "81            0    NaN   1.0     NaN    1.0   NaN       NaN    NaN     NaN   \n",
       "91            0    NaN   1.0     NaN    1.0   NaN       NaN    NaN     NaN   \n",
       "...         ...    ...   ...     ...    ...   ...       ...    ...     ...   \n",
       "122938        1    NaN   NaN     NaN    NaN   NaN       NaN    NaN     NaN   \n",
       "122940        0    NaN   NaN     NaN    NaN   NaN       NaN    NaN     NaN   \n",
       "122941        0    NaN   NaN     NaN    NaN   NaN       NaN    NaN     NaN   \n",
       "122942        0    NaN   NaN     NaN    NaN   NaN       NaN    NaN     NaN   \n",
       "126639        0    NaN   NaN     NaN    NaN   NaN       NaN    NaN     NaN   \n",
       "\n",
       "        a1115  ... a3042ca_ex1 a3043  a3043a   a3044 a3045  a3045a  \\\n",
       "49        NaN  ...         NaN   NaN     NaN     NaN   NaN     NaN   \n",
       "50        NaN  ...         NaN   NaN     NaN     NaN   NaN     NaN   \n",
       "52        2.0  ...         NaN   NaN     NaN     NaN   NaN     NaN   \n",
       "81        NaN  ...         NaN   NaN     NaN     NaN   NaN     NaN   \n",
       "91        NaN  ...         NaN   NaN     NaN  2012.0     2       3   \n",
       "...       ...  ...         ...   ...     ...     ...   ...     ...   \n",
       "122938    NaN  ...         NaN   NaN     NaN     NaN   NaN     NaN   \n",
       "122940    NaN  ...         NaN   NaN     NaN     NaN   NaN     NaN   \n",
       "122941    NaN  ...         NaN   NaN     NaN     NaN   NaN     NaN   \n",
       "122942    NaN  ...         NaN   NaN     NaN     NaN   NaN     NaN   \n",
       "126639    NaN  ...         NaN   NaN     NaN     NaN   NaN     NaN   \n",
       "\n",
       "        a3045a_ex1  a3046 a3047 a3048  \n",
       "49             NaN      2   NaN   NaN  \n",
       "50             NaN    NaN   NaN   NaN  \n",
       "52             NaN    NaN   NaN   NaN  \n",
       "81             NaN    NaN   NaN   NaN  \n",
       "91             NaN      2   NaN   NaN  \n",
       "...            ...    ...   ...   ...  \n",
       "122938         NaN    NaN   NaN   NaN  \n",
       "122940         NaN    NaN   NaN   NaN  \n",
       "122941         NaN    NaN   NaN   NaN  \n",
       "122942         NaN    NaN   NaN   NaN  \n",
       "126639         NaN      2   NaN   NaN  \n",
       "\n",
       "[150 rows x 121 columns]"
      ]
     },
     "execution_count": 43,
     "metadata": {},
     "output_type": "execute_result"
    }
   ],
   "source": [
    "sd_2.iloc[:,4:125]"
   ]
  },
  {
   "cell_type": "code",
   "execution_count": 18,
   "metadata": {},
   "outputs": [
    {
     "data": {
      "text/html": [
       "<div>\n",
       "<style scoped>\n",
       "    .dataframe tbody tr th:only-of-type {\n",
       "        vertical-align: middle;\n",
       "    }\n",
       "\n",
       "    .dataframe tbody tr th {\n",
       "        vertical-align: top;\n",
       "    }\n",
       "\n",
       "    .dataframe thead th {\n",
       "        text-align: right;\n",
       "    }\n",
       "</style>\n",
       "<table border=\"1\" class=\"dataframe\">\n",
       "  <thead>\n",
       "    <tr style=\"text-align: right;\">\n",
       "      <th></th>\n",
       "      <th>hhid</th>\n",
       "      <th>prov_CHN</th>\n",
       "      <th>province</th>\n",
       "      <th>rural</th>\n",
       "      <th>swgt</th>\n",
       "      <th>region</th>\n",
       "      <th>aorb</th>\n",
       "      <th>city_lab</th>\n",
       "    </tr>\n",
       "  </thead>\n",
       "  <tbody>\n",
       "  </tbody>\n",
       "</table>\n",
       "</div>"
      ],
      "text/plain": [
       "Empty DataFrame\n",
       "Columns: [hhid, prov_CHN, province, rural, swgt, region, aorb, city_lab]\n",
       "Index: []"
      ]
     },
     "execution_count": 18,
     "metadata": {},
     "output_type": "execute_result"
    }
   ],
   "source": [
    "sd_3"
   ]
  },
  {
   "cell_type": "code",
   "execution_count": 20,
   "metadata": {},
   "outputs": [],
   "source": [
    "# pd.merge(sd_3,sd,on=[\"hhid_2013\"],how=\"inner\")"
   ]
  },
  {
   "cell_type": "code",
   "execution_count": 21,
   "metadata": {},
   "outputs": [
    {
     "data": {
      "text/plain": [
       "Series([], dtype: object)"
      ]
     },
     "execution_count": 21,
     "metadata": {},
     "output_type": "execute_result"
    }
   ],
   "source": [
    "sd_f = sd.iloc[:,125:]\n",
    "sd_f = sd_f.applymap(convert_to_float)\n",
    "sd_f =sd_f.fillna(0)\n",
    "sd_f.sum(axis=1)"
   ]
  },
  {
   "cell_type": "code",
   "execution_count": 12,
   "metadata": {},
   "outputs": [
    {
     "data": {
      "text/plain": [
       "Index([], dtype='object')"
      ]
     },
     "execution_count": 12,
     "metadata": {},
     "output_type": "execute_result"
    }
   ],
   "source": []
  },
  {
   "cell_type": "code",
   "execution_count": 14,
   "metadata": {},
   "outputs": [],
   "source": [
    "c = df_2.columns"
   ]
  },
  {
   "cell_type": "code",
   "execution_count": 95,
   "metadata": {},
   "outputs": [
    {
     "data": {
      "text/plain": [
       "3190523127.6358175"
      ]
     },
     "execution_count": 95,
     "metadata": {},
     "output_type": "execute_result"
    }
   ],
   "source": [
    "aa = df_2.iloc[:,2:69]\n",
    "aa = aa.applymap(convert_to_float)\n",
    "aa =aa.fillna(0)\n",
    "aa.sum(axis=1).mean()"
   ]
  },
  {
   "cell_type": "code",
   "execution_count": 96,
   "metadata": {},
   "outputs": [
    {
     "data": {
      "text/plain": [
       "0.021534500791118023"
      ]
     },
     "execution_count": 96,
     "metadata": {},
     "output_type": "execute_result"
    }
   ],
   "source": [
    "aa = df_2.iloc[:,80:89]\n",
    "aa = aa.applymap(convert_to_float)\n",
    "aa =aa.fillna(0)\n",
    "aa.sum(axis=1).mean()"
   ]
  },
  {
   "cell_type": "code",
   "execution_count": 97,
   "metadata": {},
   "outputs": [
    {
     "data": {
      "text/plain": [
       "3190534024.5704813"
      ]
     },
     "execution_count": 97,
     "metadata": {},
     "output_type": "execute_result"
    }
   ],
   "source": [
    "##现金\n",
    "aa = df_2.iloc[:,2:358]\n",
    "aa = aa.applymap(convert_to_float)\n",
    "aa =aa.fillna(0)\n",
    "aa.sum\n",
    "aa.sum(axis=1).mean()"
   ]
  },
  {
   "cell_type": "code",
   "execution_count": 98,
   "metadata": {},
   "outputs": [
    {
     "data": {
      "text/plain": [
       "1127862699.4091542"
      ]
     },
     "execution_count": 98,
     "metadata": {},
     "output_type": "execute_result"
    }
   ],
   "source": [
    "###银行存款\n",
    "aa = df_2.iloc[:,358:1084]\n",
    "aa = aa.applymap(convert_to_float)\n",
    "aa =aa.fillna(0)\n",
    "aa.sum(axis=1).mean()"
   ]
  },
  {
   "cell_type": "code",
   "execution_count": 99,
   "metadata": {},
   "outputs": [
    {
     "data": {
      "text/plain": [
       "0.9666666666666667"
      ]
     },
     "execution_count": 99,
     "metadata": {},
     "output_type": "execute_result"
    }
   ],
   "source": [
    "### 股票\n",
    "aa= df_2.iloc[:30,1153:1158]\n",
    "aa = aa.applymap(convert_to_float)\n",
    "aa =aa.fillna(0)\n",
    "aa.sum(axis=1).mean()"
   ]
  },
  {
   "cell_type": "code",
   "execution_count": 100,
   "metadata": {},
   "outputs": [
    {
     "data": {
      "text/plain": [
       "0.00016090536083027167"
      ]
     },
     "execution_count": 100,
     "metadata": {},
     "output_type": "execute_result"
    }
   ],
   "source": [
    "###基金\n",
    "aa= df_2.iloc[:,1184:1195]\n",
    "aa = aa.applymap(convert_to_float)\n",
    "aa =aa.fillna(0)\n",
    "aa.sum(axis=1).mean()"
   ]
  },
  {
   "cell_type": "code",
   "execution_count": 92,
   "metadata": {},
   "outputs": [
    {
     "data": {
      "text/plain": [
       "0.10217490412722251"
      ]
     },
     "execution_count": 92,
     "metadata": {},
     "output_type": "execute_result"
    }
   ],
   "source": [
    "###债券\n",
    "aa= df_2.iloc[:,1213:1214]\n",
    "aa = aa.applymap(convert_to_float)\n",
    "aa =aa.fillna(0)\n",
    "aa.sum(axis=1).mean()"
   ]
  },
  {
   "cell_type": "code",
   "execution_count": 93,
   "metadata": {},
   "outputs": [
    {
     "data": {
      "text/plain": [
       "0.0"
      ]
     },
     "execution_count": 93,
     "metadata": {},
     "output_type": "execute_result"
    }
   ],
   "source": [
    "###衍生品\n",
    "aa= df_2.iloc[:,1195:1210]\n",
    "aa = aa.applymap(convert_to_float)\n",
    "aa =aa.fillna(0)\n",
    "aa.sum(axis=1).mean()"
   ]
  },
  {
   "cell_type": "code",
   "execution_count": 94,
   "metadata": {},
   "outputs": [
    {
     "data": {
      "text/plain": [
       "0.013864678591541741"
      ]
     },
     "execution_count": 94,
     "metadata": {},
     "output_type": "execute_result"
    }
   ],
   "source": [
    "###非人民币\n",
    "aa= df_2.iloc[:,1214:1219]\n",
    "aa = aa.applymap(convert_to_float)\n",
    "aa =aa.fillna(0)\n",
    "aa.sum(axis=1).mean()"
   ]
  },
  {
   "cell_type": "code",
   "execution_count": 445,
   "metadata": {},
   "outputs": [
    {
     "data": {
      "text/plain": [
       "150.15457872854554"
      ]
     },
     "execution_count": 445,
     "metadata": {},
     "output_type": "execute_result"
    }
   ],
   "source": [
    "###黄金\n",
    "aa= df_2.iloc[:,1219:1222]\n",
    "aa = aa.applymap(convert_to_float)\n",
    "aa =aa.fillna(0)\n",
    "aa.sum(axis=1).mean()"
   ]
  },
  {
   "cell_type": "code",
   "execution_count": 446,
   "metadata": {},
   "outputs": [
    {
     "data": {
      "text/plain": [
       "1762.597793255389"
      ]
     },
     "execution_count": 446,
     "metadata": {},
     "output_type": "execute_result"
    }
   ],
   "source": [
    "###借出款\n",
    "aa= df_2.iloc[:,1288:1292]\n",
    "aa = aa.applymap(convert_to_float)\n",
    "aa =aa.fillna(0)\n",
    "aa.sum(axis=1).mean()"
   ]
  },
  {
   "cell_type": "code",
   "execution_count": 447,
   "metadata": {},
   "outputs": [
    {
     "data": {
      "text/plain": [
       "7.028961302014854"
      ]
     },
     "execution_count": 447,
     "metadata": {},
     "output_type": "execute_result"
    }
   ],
   "source": [
    "### 其他金融资产 \n",
    "aa= df_2.iloc[:,1801:1806]\n",
    "aa = aa.applymap(convert_to_float)\n",
    "aa =aa.fillna(0)\n",
    "aa.sum(axis=1).mean()"
   ]
  },
  {
   "cell_type": "code",
   "execution_count": 448,
   "metadata": {},
   "outputs": [
    {
     "data": {
      "text/plain": [
       "4935.865521481126"
      ]
     },
     "execution_count": 448,
     "metadata": {},
     "output_type": "execute_result"
    }
   ],
   "source": [
    "### 理财产品\n",
    "aa= df_2.iloc[:,1830:1834]\n",
    "aa = aa.applymap(convert_to_float)\n",
    "aa =aa.fillna(0)\n",
    "aa.sum(axis=1).mean()"
   ]
  },
  {
   "cell_type": "code",
   "execution_count": 91,
   "metadata": {},
   "outputs": [
    {
     "data": {
      "text/plain": [
       "Index(['hhid', 'hhid_2011', 'hhid_2013', 'hhid_2015', 'hhid_2017', 'pline',\n",
       "       'track', 'hhead', 'a1106', 'a1106c', 'a1108', 'a1109', 'a1109_ex1',\n",
       "       'a1113', 'a1114', 'a2000c', 'a2001', 'a2001_ex1', 'a2003', 'a2005',\n",
       "       'a2005a', 'ts003', 'a2006', 'a2012', 'a2012a', 'a2013ac',\n",
       "       'a2013ac_1_mc', 'a2013ac_2_mc', 'a2013ac_3_mc', 'a2013ac_4_mc',\n",
       "       'a2013ac_5_mc', 'a2013ac_6_mc', 'a2015', 'a2016b_city_lab',\n",
       "       'a2016b_county_lab', 'a2016b_prov', 'a2016b_prov_code', 'a2017b',\n",
       "       'a2019_city_lab', 'a2019_county_lab', 'a2019_prov', 'a2019_prov_code',\n",
       "       'a2019b', 'a2019e', 'a2019f', 'a2022', 'a2022_ex1', 'a2022a', 'a2022b',\n",
       "       'a2022c', 'a2022c_ex1', 'a2022ha', 'a2022k', 'a2022l',\n",
       "       'a2022m_city_lab', 'a2022m_county_lab', 'a2022m_prov',\n",
       "       'a2022m_prov_code', 'a2023g', 'a2023i', 'a2023j_city_lab',\n",
       "       'a2023j_prov', 'a2023j_prov_code', 'a2023k', 'a2023la', 'a2024',\n",
       "       'a2025b', 'a2028', 'a2029', 'a3100', 'a3101', 'a3102', 'a3102_ex1',\n",
       "       'a3103', 'a3104', 'a3105', 'a3105a', 'a3106', 'a3106_ex1', 'a3107',\n",
       "       'a3108', 'a3109', 'a3109_imp', 'a3109_imp_dummy', 'a3110', 'a3110_ex1',\n",
       "       'a3111', 'a3111a', 'a3111b', 'a3111b_ex1', 'a3111c', 'a3111c_ex1',\n",
       "       'a3111d', 'a3111d_ex1', 'a3111e', 'a3111e_ex1', 'a3111f', 'a3111f_ex1',\n",
       "       'a3112', 'a3112_imp'],\n",
       "      dtype='object')"
      ]
     },
     "execution_count": 91,
     "metadata": {},
     "output_type": "execute_result"
    }
   ],
   "source": [
    "df.columns[0:100]"
   ]
  },
  {
   "cell_type": "code",
   "execution_count": 93,
   "metadata": {},
   "outputs": [
    {
     "data": {
      "text/plain": [
       "Index(['a3112_imp_dummy', 'a3113', 'a3113_imp', 'a3113_imp_dummy', 'a3114',\n",
       "       'a3115', 'a3115_ex1', 'a3116', 'a3117', 'a3118', 'a3118_1_mc',\n",
       "       'a3118_2_mc', 'a3118_3_mc', 'a3118_4_mc', 'a3118_5_mc', 'a3118_6_mc',\n",
       "       'a3118_7_mc', 'a3118_8_mc', 'a3118_7777_mc', 'a3118_ex1', 'a3119',\n",
       "       'a3120', 'a3120_1_mc', 'a3120_2_mc', 'a3120_3_mc', 'a3120_4_mc',\n",
       "       'a3120_5_mc', 'a3120_6_mc', 'a3120_7777_mc', 'a3120_ex1', 'a3121',\n",
       "       'a3121_1_mc', 'a3121_2_mc', 'a3121_3_mc', 'a3121_7777_mc', 'a3121_ex1',\n",
       "       'a3122', 'a3123', 'a3123_imp', 'a3123_imp_dummy', 'a3124', 'a3124_imp',\n",
       "       'a3124_imp_dummy', 'a3125', 'a3125_imp', 'a3125_imp_dummy', 'a3126',\n",
       "       'a3127', 'a3128', 'a3129', 'a3130', 'a3131', 'a3131_ex1', 'a3132',\n",
       "       'a3132a', 'a3133', 'a3134', 'a3135', 'a3135a', 'a3135b', 'a3136',\n",
       "       'a3136_imp', 'a3136_imp_dummy', 'a3136a', 'a3136a_imp',\n",
       "       'a3136a_imp_dummy', 'a3136ait', 'a3136b', 'a3136b_imp',\n",
       "       'a3136b_imp_dummy', 'a3136bit', 'a3136it', 'a3137', 'a3137_imp',\n",
       "       'a3137_imp_dummy', 'a3137it', 'a3138', 'a3139', 'a3139a', 'a3140',\n",
       "       'a3141', 'a3141_ex1', 'a3142', 'a3143', 'a3145', 'a3145a', 'a3145a_ex1',\n",
       "       'a3146', 'a3147', 'a3148', 'a3149', 'a3150', 'a3151', 'a3152',\n",
       "       'a3152_1_mc', 'a3152_2_mc', 'a3152_3_mc', 'a3152_4_mc', 'a3152_5_mc',\n",
       "       'a3152_6_mc'],\n",
       "      dtype='object')"
      ]
     },
     "execution_count": 93,
     "metadata": {},
     "output_type": "execute_result"
    }
   ],
   "source": [
    "df.columns[100:200]"
   ]
  },
  {
   "cell_type": "code",
   "execution_count": 51,
   "metadata": {},
   "outputs": [
    {
     "ename": "SyntaxError",
     "evalue": "invalid syntax (1286379368.py, line 1)",
     "output_type": "error",
     "traceback": [
      "\u001b[1;36m  Cell \u001b[1;32mIn[51], line 1\u001b[1;36m\u001b[0m\n\u001b[1;33m    2013\t13201.05\t25%\t75%\t24906.63\t34%\t66%\u001b[0m\n\u001b[1;37m        \t^\u001b[0m\n\u001b[1;31mSyntaxError\u001b[0m\u001b[1;31m:\u001b[0m invalid syntax\n"
     ]
    }
   ],
   "source": [
    "2013\t13201.05\t25%\t75%\t24906.63\t34%\t66%\n",
    "2015\t13988.55\t14%\t86%\t25573.81\t18%\t82%\n",
    "2017\t18891.17\t39%\t60%\t26666.50\t43%\t56%\n",
    "2019\t19825.15\t21%\t79%\t47983.07\t26%\t74%"
   ]
  },
  {
   "cell_type": "code",
   "execution_count": 52,
   "metadata": {},
   "outputs": [],
   "source": [
    "a = [(13201.05*0.25+24906*0.34)/(13201.05+24906.63),(13988.55*0.14+25573.81*0.18)/(13988.55+25573.81),(18891.17*0.39+26666.50*0.43)/(18891.17+26666.50),(19825.15*0.21+47983.07*0.26)/(19825.15+47983.07)]"
   ]
  },
  {
   "cell_type": "code",
   "execution_count": 58,
   "metadata": {},
   "outputs": [],
   "source": [
    "import numpy as np\n",
    "b = 1 - np.array(a)"
   ]
  },
  {
   "cell_type": "code",
   "execution_count": 86,
   "metadata": {},
   "outputs": [
    {
     "data": {
      "image/png": "[encoded data removed]",
      "text/plain": [
       "<Figure size 640x480 with 1 Axes>"
      ]
     },
     "metadata": {},
     "output_type": "display_data"
    }
   ],
   "source": [
    "# import matplotlib.pyplot as plt\n",
    "# import matplotlib.pyplot as plt\n",
    "# plt.rcParams['font.sans-serif'] = ['SimHei']\n",
    "year = [\"2013年\",\"2015年\",\"2017年\",\"2019年\"]\n",
    "# # 创建折线图\n",
    "# plt.plot(year, a)\n",
    "# plt.plot(year,b)\n",
    "# # 添加标题和标签\n",
    "\n",
    "# plt.ylabel('资产占比(%)')\n",
    "\n",
    "# # 显示图表\n",
    "# plt.show()\n",
    "import matplotlib.pyplot as plt\n",
    "from matplotlib.ticker import FuncFormatter\n",
    "plt.rcParams['font.sans-serif'] = ['SimHei']\n",
    "plt.rcParams['axes.unicode_minus'] = False\n",
    "\n",
    "\n",
    "# 将y轴的小数值转换为百分比形式\n",
    "def to_percentage(y, position):\n",
    "    return '{:.0%}'.format(y)\n",
    "\n",
    "# 创建折线图\n",
    "plt.plot(year,a,label=\"无风险资产/金融资产\")\n",
    "plt.plot(year,b,color='orange',label=\"风险资产/金融资产\")\n",
    "\n",
    "plt.scatter(year,a, color='blue', marker='o')\n",
    "plt.scatter(year,b,color='orange', marker='o')\n",
    "\n",
    "# 添加标题和标签\n",
    "plt.ylabel('资产占比(%)')\n",
    "\n",
    "# 设置y轴标签显示为百分比形式\n",
    "formatter = FuncFormatter(to_percentage)\n",
    "plt.gca().yaxis.set_major_formatter(formatter)\n",
    "for i, label in enumerate(a):\n",
    "    plt.annotate(str(round(label*100,2))+\"%\", (year[i], a[i]), textcoords=\"offset points\", xytext=(5,5), ha='center')\n",
    "for i, label in enumerate(b):\n",
    "    plt.annotate(str(round(label*100,2))+\"%\", (year[i], b[i]), xytext=(0, -10), textcoords='offset points',\n",
    "                 ha='center', va='top')\n",
    "plt.legend()\n",
    "\n",
    "# 显示图表\n",
    "plt.show()\n",
    "\n"
   ]
  },
  {
   "cell_type": "code",
   "execution_count": null,
   "metadata": {},
   "outputs": [],
   "source": []
  }
 ],
 "metadata": {
  "kernelspec": {
   "display_name": "skl",
   "language": "python",
   "name": "python3"
  },
  "language_info": {
   "codemirror_mode": {
    "name": "ipython",
    "version": 3
   },
   "file_extension": ".py",
   "mimetype": "text/x-python",
   "name": "python",
   "nbconvert_exporter": "python",
   "pygments_lexer": "ipython3",
   "version": "3.8.0"
  }
 },
 "nbformat": 4,
 "nbformat_minor": 2
}
